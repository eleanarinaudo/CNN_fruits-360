{
  "cells": [
    {
      "cell_type": "markdown",
      "metadata": {
        "id": "F_HuvYyif28D"
      },
      "source": [
        "# Instalamos la API de Kaggle\n",
        "\n",
        "Para evitar la descarga local del archivo, realizaremos unos pasos aprovechando la API de Kaggle"
      ]
    },
    {
      "cell_type": "code",
      "execution_count": 24,
      "metadata": {
        "id": "5itHuLHjflqY"
      },
      "outputs": [],
      "source": [
        "!pip install -q kaggle\n",
        "!mkdir -p ~/.kaggle"
      ]
    },
    {
      "cell_type": "markdown",
      "metadata": {
        "id": "Afv76hhTfmsP"
      },
      "source": [
        "Importamos el `kaggle.json` con `google.colab`"
      ]
    },
    {
      "cell_type": "code",
      "execution_count": null,
      "metadata": {
        "id": "liGyyL13dkT9"
      },
      "outputs": [],
      "source": [
        "from google.colab import files\n",
        "files.upload()"
      ]
    },
    {
      "cell_type": "code",
      "execution_count": null,
      "metadata": {
        "id": "BskHE6Wpeev2"
      },
      "outputs": [],
      "source": [
        "!cp kaggle.json ~/.kaggle/ # Para que el archivo .json quede en la carpeta adecuada para ser leída durante la descarga de datos"
      ]
    },
    {
      "cell_type": "markdown",
      "metadata": {
        "id": "G8DvGMR1uI1K"
      },
      "source": [
        "# Descargamos el Dataset de Fruits\n",
        " \n",
        "Descargamos y Descomprimimos el dataset que está comprimido "
      ]
    },
    {
      "cell_type": "code",
      "execution_count": 26,
      "metadata": {
        "id": "aAJrEhLvfUCW",
        "colab": {
          "base_uri": "https://localhost:8080/"
        },
        "outputId": "3f2bd864-cd99-4931-d3de-f52e1f805805"
      },
      "outputs": [
        {
          "output_type": "stream",
          "name": "stdout",
          "text": [
            "Warning: Your Kaggle API key is readable by other users on this system! To fix this, you can run 'chmod 600 /root/.kaggle/kaggle.json'\n",
            "Downloading fruits.zip to /content\n",
            " 99% 1.28G/1.28G [00:37<00:00, 45.8MB/s]\n",
            "100% 1.28G/1.28G [00:37<00:00, 36.5MB/s]\n"
          ]
        }
      ],
      "source": [
        "!kaggle datasets download -d moltean/fruits --force"
      ]
    },
    {
      "cell_type": "code",
      "execution_count": 27,
      "metadata": {
        "id": "I3lT29CwcFrG",
        "colab": {
          "base_uri": "https://localhost:8080/"
        },
        "outputId": "c995807d-58ff-4d0a-fa75-4de6b2fe1329"
      },
      "outputs": [
        {
          "output_type": "stream",
          "name": "stdout",
          "text": [
            "Archive:  /content/fruits.zip\n",
            "replace fruits-360/fruits-360-original-size/fruits-360-original-size/Meta/apple_6/info.txt? [y]es, [n]o, [A]ll, [N]one, [r]ename: N\n"
          ]
        }
      ],
      "source": [
        "!unzip /content/fruits.zip -d fruits-360"
      ]
    },
    {
      "cell_type": "markdown",
      "metadata": {
        "id": "r281yIx0o2Zk"
      },
      "source": [
        "# Importamos las Librerías Necesarias"
      ]
    },
    {
      "cell_type": "code",
      "execution_count": 50,
      "metadata": {
        "id": "era-YCjpozwI"
      },
      "outputs": [],
      "source": [
        "import tensorflow as tf\n",
        "\n",
        "from sklearn.model_selection import train_test_split\n",
        "from tensorflow.keras.models import Sequential\n",
        "from tensorflow.keras.layers import Conv2D,MaxPooling2D\n",
        "from tensorflow.keras.layers import Activation, Dense, Flatten, Dropout\n",
        "from tensorflow.keras.preprocessing.image import ImageDataGenerator\n",
        "from tensorflow.keras.callbacks import ModelCheckpoint\n",
        "from tensorflow.keras.preprocessing.image import array_to_img, img_to_array, load_img\n",
        "from keras.optimizers import *\n",
        "from sklearn.datasets import load_files\n",
        "\n",
        "import matplotlib.image as mpimg\n",
        "import numpy as np\n",
        "\n",
        "import matplotlib.pyplot as plt\n",
        "from keras.utils import np_utils"
      ]
    },
    {
      "cell_type": "markdown",
      "metadata": {
        "id": "mEbZfgRTnWR6"
      },
      "source": [
        "# Preparamos los datos para trabajar"
      ]
    },
    {
      "cell_type": "markdown",
      "metadata": {
        "id": "_Ku1TI9NoTir"
      },
      "source": [
        "Rutas de los directorios"
      ]
    },
    {
      "cell_type": "code",
      "execution_count": null,
      "metadata": {
        "id": "lbJENYwciOp8"
      },
      "outputs": [],
      "source": [
        "TRAIN_PATH = \"/content/fruits-360/fruits-360-original-size/fruits-360-original-size/Training/\"\n",
        "TEST_PATH = \"/content/fruits-360/fruits-360-original-size/fruits-360-original-size/Test/\"\n",
        "VAL_PATH = \"/content/fruits-360/fruits-360-original-size/fruits-360-original-size/Validation/\""
      ]
    },
    {
      "cell_type": "markdown",
      "source": [
        "## Cargamos los datos y dividimos el conjunto de datos en entrenamiento y de prueba con nombres de las etiquetas"
      ],
      "metadata": {
        "id": "s44ofLd_9FAY"
      }
    },
    {
      "cell_type": "markdown",
      "metadata": {
        "id": "vVzIOQyWanvO"
      },
      "source": [
        "- Estamos cargando todos los datos de entrenamiento (train) y prueba (test)\n",
        "- Guardamos entradas/imágenes en **X_train** de datos de entrenamiento y guardar etiquetas en **Y_train**\n",
        "- Guardamos entradas/imágenes en **X_test** de datos de prueba y guardar etiquetas en **Y_test**"
      ]
    },
    {
      "cell_type": "code",
      "source": [
        "def load_dataset(data_path):\n",
        "    data_loading = load_files(data_path)\n",
        "    files_add = np.array(data_loading['filenames'])\n",
        "    targets_fruits = np.array(data_loading['target'])\n",
        "    target_labels_fruits = np.array(data_loading['target_names'])\n",
        "    return files_add,targets_fruits,target_labels_fruits\n",
        "    \n",
        "X_train, Y_train, target_labels = load_dataset(TRAIN_PATH)\n",
        "X_test, Y_test, target_labels = load_dataset(TEST_PATH)\n",
        "X_val, Y_val, target_labels = load_dataset(VAL_PATH)\n",
        "\n",
        "print('Cantidad de Datos de Entrenamiento: ' , X_train.shape[0])\n",
        "print('Cantidad de Datos de Validación: ' , X_val.shape[0])\n",
        "print('Cantidad de Datos de Test: ', X_test.shape[0])\n",
        "print(\"Las clases de frutas son: \\n\", target_labels)"
      ],
      "metadata": {
        "id": "lIK-DA6P9Xdo",
        "colab": {
          "base_uri": "https://localhost:8080/"
        },
        "outputId": "9f2737f6-4d5a-4ba2-f575-9c50d130fbe8"
      },
      "execution_count": null,
      "outputs": [
        {
          "output_type": "stream",
          "name": "stdout",
          "text": [
            "Cantidad de Datos de Entrenamiento:  6231\n",
            "Cantidad de Datos de Validación:  3114\n",
            "Cantidad de Datos de Test:  3110\n",
            "Las clases de frutas son: \n",
            " ['apple_6' 'apple_braeburn_1' 'apple_crimson_snow_1' 'apple_golden_1'\n",
            " 'apple_golden_2' 'apple_golden_3' 'apple_granny_smith_1' 'apple_hit_1'\n",
            " 'apple_pink_lady_1' 'apple_red_1' 'apple_red_2' 'apple_red_3'\n",
            " 'apple_red_delicios_1' 'apple_red_yellow_1' 'apple_rotten_1'\n",
            " 'cabbage_white_1' 'carrot_1' 'cucumber_1' 'cucumber_3'\n",
            " 'eggplant_violet_1' 'pear_1' 'pear_3' 'zucchini_1' 'zucchini_dark_1']\n"
          ]
        }
      ]
    },
    {
      "cell_type": "markdown",
      "metadata": {
        "id": "Mqy3uIC6OAeH"
      },
      "source": [
        "## Clases de frutas"
      ]
    },
    {
      "cell_type": "markdown",
      "metadata": {
        "id": "NFACC_ikOkz8"
      },
      "source": [
        "Hay 24  etiquetas/clases que son los nombres de frutas ya que estamos usando  de 24 tipos de frutas."
      ]
    },
    {
      "cell_type": "code",
      "execution_count": 29,
      "metadata": {
        "id": "aONxmFb3N_qY",
        "colab": {
          "base_uri": "https://localhost:8080/"
        },
        "outputId": "b379d005-3d2c-42a0-a89f-ee84155d0ba4"
      },
      "outputs": [
        {
          "output_type": "stream",
          "name": "stdout",
          "text": [
            "La cantidad de clases de frutas son: 2\n"
          ]
        }
      ],
      "source": [
        "num_classes = len(np.unique(Y_train))\n",
        "print(f\"La cantidad de clases de frutas son: {num_classes}\")"
      ]
    },
    {
      "cell_type": "markdown",
      "metadata": {
        "id": "TMTZhzjeO3nO"
      },
      "source": [
        "## Limpieza de datos\n",
        "Vector del primer registro de Y_train:\n",
        "\n",
        "- Como sabemos que estamos usando 24 clases/etiquetas, creamos un vector de 24 valores. \n",
        "- Podemos ver que solo hay 1 y todos son ceros que muestra una label de la primera imagen."
      ]
    },
    {
      "cell_type": "code",
      "execution_count": 30,
      "metadata": {
        "id": "MCBy_C0Un1ln"
      },
      "outputs": [],
      "source": [
        "Y_train = np_utils.to_categorical(Y_train, num_classes)\n",
        "Y_test = np_utils.to_categorical(Y_test, num_classes)\n",
        "# Standariza los datos de las dimensiones que tenemos con las 24 posibles opciones "
      ]
    },
    {
      "cell_type": "code",
      "source": [
        "Y_train[0] #Ejemplo de la imagen de la posicion 0"
      ],
      "metadata": {
        "id": "D0vHTHUy72vL",
        "colab": {
          "base_uri": "https://localhost:8080/"
        },
        "outputId": "9ab0b6b9-18db-4128-aae1-ab82c44bd4d6"
      },
      "execution_count": null,
      "outputs": [
        {
          "output_type": "execute_result",
          "data": {
            "text/plain": [
              "array([0., 0., 0., 0., 0., 0., 0., 0., 1., 0., 0., 0., 0., 0., 0., 0., 0.,\n",
              "       0., 0., 0., 0., 0., 0., 0.], dtype=float32)"
            ]
          },
          "metadata": {},
          "execution_count": 11
        }
      ]
    },
    {
      "cell_type": "markdown",
      "source": [
        "# Dividir el conjunto de validación en conjunto de prueba y validación."
      ],
      "metadata": {
        "id": "0aUV0af583tL"
      }
    },
    {
      "cell_type": "markdown",
      "source": [
        "- Estamos dividiendo los **datos de prueba** (test) en **datos de validación**. \n",
        "\n",
        "- Los **datos de validación** se usarán mientras se entrena el modelo para comprobar el rendimiento durante el entrenamiento\n",
        "\n",
        "- Los **datos de prueba** se usarán después de entrenar el modelo."
      ],
      "metadata": {
        "id": "FpCuuEbt8-Bh"
      }
    },
    {
      "cell_type": "code",
      "execution_count": null,
      "metadata": {
        "id": "Jx65QeM5RZCw",
        "colab": {
          "base_uri": "https://localhost:8080/"
        },
        "outputId": "87ebc6fa-e521-4b0b-82dc-8e22de39e667"
      },
      "outputs": [
        {
          "output_type": "stream",
          "name": "stdout",
          "text": [
            "Los datos de la Validacion son X_val: (622,) y de Y_val: (622, 24)\n",
            "Los datos del Test son X_test: (2488,) y de Y_test: (2488, 24)\n"
          ]
        }
      ],
      "source": [
        "X_test, X_val, Y_test, Y_val=train_test_split(X_test, Y_test, test_size=0.2, random_state=42)\n",
        "print (f\"Los datos de la Validacion son X_val: {X_val.shape} y de Y_val: {Y_val.shape}\")\n",
        "print (f\"Los datos del Test son X_test: {X_test.shape} y de Y_test: {Y_test.shape}\")"
      ]
    },
    {
      "cell_type": "markdown",
      "source": [
        "# Procesamiento de la Imagen"
      ],
      "metadata": {
        "id": "aTWlpcr6-rgD"
      }
    },
    {
      "cell_type": "markdown",
      "source": [
        "Definimos como variables globales al numero de clases, el ancho y largo de largo de la imagen y el tamaño de filtro que vamos a utilizar."
      ],
      "metadata": {
        "id": "erZZeT7k-vvf"
      }
    },
    {
      "cell_type": "code",
      "source": [
        "NUM_CLASS = num_classes\n",
        "IMG_H, IMG_W = 100, 100 \n",
        "BATCH_SIZE = 32"
      ],
      "metadata": {
        "id": "mmBCS3BNTM4C"
      },
      "execution_count": null,
      "outputs": []
    },
    {
      "cell_type": "markdown",
      "source": [
        "## Data Augmentation\n",
        "\n",
        "Usamos el Data Augmentation para tener la imagen con distintas caracteristicas sin modificar el dato. "
      ],
      "metadata": {
        "id": "MinMUnZA7LoN"
      }
    },
    {
      "cell_type": "code",
      "source": [
        "train_datagen = ImageDataGenerator(\n",
        "    rescale=1.0 / 255,\n",
        "    rotation_range=30,\n",
        "    width_shift_range=0.3,\n",
        "    height_shift_range=0.3,\n",
        "    horizontal_flip=True,\n",
        "    fill_mode=\"nearest\",\n",
        ")\n",
        "\n",
        "val_datagen = ImageDataGenerator(rescale=1.0 / 255)\n",
        "\n",
        "train_generator = train_datagen.flow_from_directory(\n",
        "    TRAIN_PATH,\n",
        "    target_size=(IMG_H, IMG_W),\n",
        "    batch_size=BATCH_SIZE,\n",
        "    class_mode=\"categorical\",\n",
        "    shuffle=True,\n",
        ")\n",
        "\n",
        "val_generator = val_datagen.flow_from_directory(\n",
        "    VAL_PATH,\n",
        "    target_size=(IMG_H, IMG_W),\n",
        "    batch_size=BATCH_SIZE,\n",
        "    class_mode=\"categorical\",\n",
        "    shuffle=False,\n",
        ")"
      ],
      "metadata": {
        "id": "xg4XxNZ8rlFX",
        "colab": {
          "base_uri": "https://localhost:8080/"
        },
        "outputId": "3d2ab0a3-4077-4cba-f856-438ec37fe7ed"
      },
      "execution_count": 40,
      "outputs": [
        {
          "output_type": "stream",
          "name": "stdout",
          "text": [
            "Found 6231 images belonging to 24 classes.\n",
            "Found 3114 images belonging to 24 classes.\n"
          ]
        }
      ]
    },
    {
      "cell_type": "markdown",
      "source": [
        "# Redes Neuronales Convolucionales"
      ],
      "metadata": {
        "id": "jbj9aHpm6Rv6"
      }
    },
    {
      "cell_type": "markdown",
      "source": [
        "Ahora, comencemos con nuestro primer enfoque que utiliza redes neuronales convolucionales personalizadas. \n",
        "\n",
        "Las CNN son técnicas asombrosas que ayudan a una red neuronal a aprender características espaciales y relacionadas. \n",
        "\n",
        "Las CNN ayudan a la red neuronal a aprender las relaciones entre varias áreas de una imagen, como bordes, ojos, etc.\n",
        "\n",
        "Cuanto más profunda es la red neuronal, más características complejas se aprenden."
      ],
      "metadata": {
        "id": "SP2NbiIcl1YU"
      }
    },
    {
      "cell_type": "code",
      "source": [
        "model = Sequential()\n",
        "model.add(Conv2D(filters = 32, kernel_size = 3, padding='same', input_shape= (IMG_H, IMG_W, 3)))\n",
        "model.add(Activation('relu'))\n",
        "model.add(MaxPooling2D(pool_size=2))\n",
        "\n",
        "model.add(Conv2D(filters = 32, kernel_size = 3))\n",
        "model.add(Activation('relu'))\n",
        "model.add(MaxPooling2D(pool_size=(2, 2)))\n",
        "model.add(Dropout(0.25))\n",
        "\n",
        "model.add(Conv2D(filters = 64, kernel_size = 3, padding='same'))\n",
        "model.add(Activation('relu'))\n",
        "\n",
        "model.add(Conv2D(filters = 64, kernel_size = 3))\n",
        "model.add(Activation('relu'))\n",
        "model.add(MaxPooling2D(pool_size=(2,2)))\n",
        "model.add(Dropout(0.25))\n",
        "\n",
        "model.add(Flatten())\n",
        "model.add(Dense(512))\n",
        "model.add(Activation('relu'))\n",
        "model.add(Dropout(0.5))\n",
        "model.add(Dense(NUM_CLASS))\n",
        "model.add(Activation('softmax'))\n",
        "\n",
        "\n",
        "model.summary()"
      ],
      "metadata": {
        "id": "WbU0pWtisZST",
        "colab": {
          "base_uri": "https://localhost:8080/"
        },
        "outputId": "f782c606-ef78-493b-b1cb-45ecb76b880c"
      },
      "execution_count": 41,
      "outputs": [
        {
          "output_type": "stream",
          "name": "stdout",
          "text": [
            "Model: \"sequential_2\"\n",
            "_________________________________________________________________\n",
            " Layer (type)                Output Shape              Param #   \n",
            "=================================================================\n",
            " conv2d_8 (Conv2D)           (None, 100, 100, 32)      896       \n",
            "                                                                 \n",
            " activation_12 (Activation)  (None, 100, 100, 32)      0         \n",
            "                                                                 \n",
            " max_pooling2d_6 (MaxPooling  (None, 50, 50, 32)       0         \n",
            " 2D)                                                             \n",
            "                                                                 \n",
            " conv2d_9 (Conv2D)           (None, 48, 48, 32)        9248      \n",
            "                                                                 \n",
            " activation_13 (Activation)  (None, 48, 48, 32)        0         \n",
            "                                                                 \n",
            " max_pooling2d_7 (MaxPooling  (None, 24, 24, 32)       0         \n",
            " 2D)                                                             \n",
            "                                                                 \n",
            " dropout_6 (Dropout)         (None, 24, 24, 32)        0         \n",
            "                                                                 \n",
            " conv2d_10 (Conv2D)          (None, 24, 24, 64)        18496     \n",
            "                                                                 \n",
            " activation_14 (Activation)  (None, 24, 24, 64)        0         \n",
            "                                                                 \n",
            " conv2d_11 (Conv2D)          (None, 22, 22, 64)        36928     \n",
            "                                                                 \n",
            " activation_15 (Activation)  (None, 22, 22, 64)        0         \n",
            "                                                                 \n",
            " max_pooling2d_8 (MaxPooling  (None, 11, 11, 64)       0         \n",
            " 2D)                                                             \n",
            "                                                                 \n",
            " dropout_7 (Dropout)         (None, 11, 11, 64)        0         \n",
            "                                                                 \n",
            " flatten_2 (Flatten)         (None, 7744)              0         \n",
            "                                                                 \n",
            " dense_4 (Dense)             (None, 512)               3965440   \n",
            "                                                                 \n",
            " activation_16 (Activation)  (None, 512)               0         \n",
            "                                                                 \n",
            " dropout_8 (Dropout)         (None, 512)               0         \n",
            "                                                                 \n",
            " dense_5 (Dense)             (None, 24)                12312     \n",
            "                                                                 \n",
            " activation_17 (Activation)  (None, 24)                0         \n",
            "                                                                 \n",
            "=================================================================\n",
            "Total params: 4,043,320\n",
            "Trainable params: 4,043,320\n",
            "Non-trainable params: 0\n",
            "_________________________________________________________________\n"
          ]
        }
      ]
    },
    {
      "cell_type": "code",
      "execution_count": 42,
      "metadata": {
        "colab": {
          "base_uri": "https://localhost:8080/"
        },
        "outputId": "b542b401-37da-4a74-9d6f-f203692c9c17",
        "id": "fe0cHaxx3EeT"
      },
      "outputs": [
        {
          "output_type": "stream",
          "name": "stdout",
          "text": [
            "Los datos de la Validacion son X_val: (255,) y de Y_val: (255, 24, 2)\n",
            "Los datos del Test son X_test: (1018,) y de Y_test: (1018, 24, 2)\n"
          ]
        }
      ],
      "source": [
        "X_test, X_val, Y_test, Y_val = train_test_split(\n",
        "    X_test, Y_test, test_size=0.2, random_state=42\n",
        ")\n",
        "print(f\"Los datos de la Validacion son X_val: {X_val.shape} y de Y_val: {Y_val.shape}\")\n",
        "print(f\"Los datos del Test son X_test: {X_test.shape} y de Y_test: {Y_test.shape}\")"
      ]
    },
    {
      "cell_type": "markdown",
      "source": [
        "# Compilación de los modelos"
      ],
      "metadata": {
        "id": "Ag9U7H3zvnyM"
      }
    },
    {
      "cell_type": "markdown",
      "source": [
        "- Primero llamamos al modelo\n",
        "\n",
        "- Estamos usando 24 clases, por lo que establecemos la **pérdida**(lost) como `categorical_crossentropy`. Usamos la **pérdida** como `binary_crossentropy` para dos clases. \n",
        "\n",
        "- **Optimizer** es una función que solía cambiar las características de la red neuronal, como la tasa de aprendizaje (cómo aprende el modelo con características) para reducir las pérdidas. Entonces, la tasa de aprendizaje de la red neuronal para reducir las pérdidas está definida por el **optimizador**. \n",
        "\n",
        "- Estamos configurando **metrics = accuracy** porque vamos a calcular el porcentaje de predicciones correctas sobre todas las predicciones en el conjunto de validación.\n"
      ],
      "metadata": {
        "id": "0xfEHcO3vfor"
      }
    },
    {
      "cell_type": "code",
      "source": [
        "model.compile(loss='categorical_crossentropy', optimizer='adam', metrics=['accuracy']) "
      ],
      "metadata": {
        "id": "jzfh13U-t4uk"
      },
      "execution_count": 43,
      "outputs": []
    },
    {
      "cell_type": "markdown",
      "source": [
        "# Entrenamiento del modelo con ajuste de parámetros: \n",
        "\n",
        "Estamos alimentando los datos de entrenamiento y los datos de validación para comenzar el entrenamiento del modelo. \n",
        "\n",
        "Establecemos los siguientes parámetros:\n",
        "  - Batch size:  para que el modelo tome 32 imágenes en cada iteración y las entrene. El **batch size** es un término utilizado en el aprendizaje automatizado y se refiere a la cantidad de ejemplos de entrenamiento utilizados en una iteración. \n",
        "  - Epochs = 10 (épocas), por lo que el modelo se entrenará con los datos 10 veces. Época es un término que se usa en el aprendizaje automatizado e indica la cantidad de pasadas del conjunto de datos de entrenamiento completo que ha completado el algoritmo. \n",
        "  \n",
        "Podemos elegir el **batch size** y las **epochs** que queramos, por lo que la buena práctica es establecer algunos valores y entrenar el modelo, si el modelo no da los buenos resultados, podemos cambiarlo y luego intentarlo nuevamente para el entrenamiento del modelo. \n",
        " \n",
        "Podemos repetir este proceso muchas veces hasta que no obtengamos los buenos resultados y este proceso se denomina **ajuste de parámetros**."
      ],
      "metadata": {
        "id": "XmvKTQtKqi-p"
      }
    },
    {
      "cell_type": "markdown",
      "source": [
        "## Callbacks"
      ],
      "metadata": {
        "id": "yy0pYIvGEo7z"
      }
    },
    {
      "cell_type": "code",
      "source": [
        "checkpoint = ModelCheckpoint(\"fruits_cnn.h5\",\n",
        "                             monitor=\"val_loss\",\n",
        "                             mode=\"min\",\n",
        "                             save_best_only = True,\n",
        "                             verbose=1)\n",
        "callbacks = [checkpoint]"
      ],
      "metadata": {
        "id": "lSCafl73E7r5"
      },
      "execution_count": 45,
      "outputs": []
    },
    {
      "cell_type": "markdown",
      "source": [
        "## Entrenamiento"
      ],
      "metadata": {
        "id": "MVrarAUBuHcs"
      }
    },
    {
      "cell_type": "code",
      "source": [
        "epochs = 10\n",
        "\n",
        "history = model.fit(\n",
        "    train_generator,\n",
        "    batch_size=32,\n",
        "    epochs=epochs,\n",
        "    callbacks=callbacks,\n",
        "    validation_data=val_generator,\n",
        "    verbose=2,\n",
        "    shuffle=True,\n",
        ")"
      ],
      "metadata": {
        "id": "02e3pVMYFVlf",
        "colab": {
          "base_uri": "https://localhost:8080/"
        },
        "outputId": "afbe4b6f-2400-4265-fc28-54f0e901fc33"
      },
      "execution_count": 46,
      "outputs": [
        {
          "output_type": "stream",
          "name": "stdout",
          "text": [
            "Epoch 1/10\n",
            "\n",
            "Epoch 1: val_loss improved from inf to 1.09940, saving model to fruits_cnn.h5\n",
            "195/195 - 175s - loss: 2.0537 - accuracy: 0.2977 - val_loss: 1.0994 - val_accuracy: 0.5918 - 175s/epoch - 897ms/step\n",
            "Epoch 2/10\n",
            "\n",
            "Epoch 2: val_loss improved from 1.09940 to 0.47814, saving model to fruits_cnn.h5\n",
            "195/195 - 168s - loss: 1.0809 - accuracy: 0.5999 - val_loss: 0.4781 - val_accuracy: 0.8215 - 168s/epoch - 860ms/step\n",
            "Epoch 3/10\n",
            "\n",
            "Epoch 3: val_loss improved from 0.47814 to 0.47338, saving model to fruits_cnn.h5\n",
            "195/195 - 167s - loss: 0.6495 - accuracy: 0.7567 - val_loss: 0.4734 - val_accuracy: 0.8086 - 167s/epoch - 857ms/step\n",
            "Epoch 4/10\n",
            "\n",
            "Epoch 4: val_loss did not improve from 0.47338\n",
            "195/195 - 168s - loss: 0.4739 - accuracy: 0.8281 - val_loss: 0.6334 - val_accuracy: 0.7665 - 168s/epoch - 864ms/step\n",
            "Epoch 5/10\n",
            "\n",
            "Epoch 5: val_loss improved from 0.47338 to 0.10740, saving model to fruits_cnn.h5\n",
            "195/195 - 170s - loss: 0.3895 - accuracy: 0.8623 - val_loss: 0.1074 - val_accuracy: 0.9547 - 170s/epoch - 873ms/step\n",
            "Epoch 6/10\n",
            "\n",
            "Epoch 6: val_loss improved from 0.10740 to 0.07715, saving model to fruits_cnn.h5\n",
            "195/195 - 167s - loss: 0.3706 - accuracy: 0.8671 - val_loss: 0.0772 - val_accuracy: 0.9756 - 167s/epoch - 858ms/step\n",
            "Epoch 7/10\n",
            "\n",
            "Epoch 7: val_loss improved from 0.07715 to 0.06511, saving model to fruits_cnn.h5\n",
            "195/195 - 165s - loss: 0.2520 - accuracy: 0.9061 - val_loss: 0.0651 - val_accuracy: 0.9807 - 165s/epoch - 847ms/step\n",
            "Epoch 8/10\n",
            "\n",
            "Epoch 8: val_loss improved from 0.06511 to 0.02866, saving model to fruits_cnn.h5\n",
            "195/195 - 163s - loss: 0.2366 - accuracy: 0.9188 - val_loss: 0.0287 - val_accuracy: 0.9955 - 163s/epoch - 838ms/step\n",
            "Epoch 9/10\n",
            "\n",
            "Epoch 9: val_loss did not improve from 0.02866\n",
            "195/195 - 168s - loss: 0.2233 - accuracy: 0.9215 - val_loss: 0.1339 - val_accuracy: 0.9499 - 168s/epoch - 862ms/step\n",
            "Epoch 10/10\n",
            "\n",
            "Epoch 10: val_loss did not improve from 0.02866\n",
            "195/195 - 164s - loss: 0.2105 - accuracy: 0.9267 - val_loss: 0.0352 - val_accuracy: 0.9849 - 164s/epoch - 839ms/step\n"
          ]
        }
      ]
    },
    {
      "cell_type": "markdown",
      "source": [
        "#  Visualización de la pérdida y precisión con respecto a las épocas\n",
        "\n",
        "Estamos mirando la historia del modelo de cada época mientras entrenamos nuestro modelo en 10 épocas.\n",
        "\n",
        "- La línea azul muestra la precisión del entrenamiento y también la pérdida de entrenamiento.\n",
        "\n",
        "- La línea naranja muestra la precisión de la prueba y también la pérdida de la prueba.\n",
        "\n",
        "- La precisión y la pérdida en el entrenamiento y los datos de prueba comienzan desde cero y finalmente cerca de 1 (100%)."
      ],
      "metadata": {
        "id": "N_hvkArrc3Hh"
      }
    },
    {
      "cell_type": "code",
      "source": [
        "N = epochs\n",
        "\n",
        "plt.plot(np.arange(0, N), history.history[\"loss\"], label=\"train_loss\")\n",
        "plt.plot(np.arange(0, N), history.history[\"val_loss\"],label=\"val_loss\")\n",
        "plt.title(\"Modelo de Perdidas\")\n",
        "plt.xlabel(\"Epochs\")\n",
        "plt.ylabel(\"Loss\")\n",
        "plt.legend(['train', 'test'])\n",
        "plt.show();"
      ],
      "metadata": {
        "colab": {
          "base_uri": "https://localhost:8080/",
          "height": 295
        },
        "id": "RRFmDuQSGNJq",
        "outputId": "63e1fb33-0dfa-4952-aea6-4ca30e707b5c"
      },
      "execution_count": null,
      "outputs": [
        {
          "output_type": "display_data",
          "data": {
            "image/png": "[encoded data removed]",
            "text/plain": [
              "<Figure size 432x288 with 1 Axes>"
            ]
          },
          "metadata": {
            "needs_background": "light"
          }
        }
      ]
    },
    {
      "cell_type": "code",
      "source": [
        "plt.plot(np.arange(0, N), history.history[\"accuracy\"], label=\"accuracy\")\n",
        "plt.plot(np.arange(0, N), history.history[\"val_accuracy\"], label=\"val_accuracy\")\n",
        "plt.title(\"Modelo de Precision\")\n",
        "plt.xlabel(\"Epochs \")\n",
        "plt.ylabel(\"Accuracy\")\n",
        "plt.legend(['train', 'test']);\n",
        "plt.show();"
      ],
      "metadata": {
        "colab": {
          "base_uri": "https://localhost:8080/",
          "height": 295
        },
        "id": "GVouvWJvtcA8",
        "outputId": "16b39996-9665-4688-cdc9-ddc30b1ec42a"
      },
      "execution_count": null,
      "outputs": [
        {
          "output_type": "display_data",
          "data": {
            "image/png": "[encoded data removed]",
            "text/plain": [
              "<Figure size 432x288 with 1 Axes>"
            ]
          },
          "metadata": {
            "needs_background": "light"
          }
        }
      ]
    },
    {
      "cell_type": "markdown",
      "metadata": {
        "id": "g0QUMG1EQJPz"
      },
      "source": [
        "# Predecir los resultados\n",
        "\n",
        "- La precisión es el número de imágenes reconocidas correctamente de todas las imágenes.\n",
        "\n",
        "- Por ejemplo, si el modelo entrenado reconoce 90 imágenes correctas y 10 imágenes incorrectas de un total de 100 imágenes, la puntuación de precisión será del 90 %. "
      ]
    },
    {
      "cell_type": "code",
      "source": [
        "from keras.preprocessing import image\n",
        "\n",
        "fruitlabel = np.array(target_labels)\n",
        "test_fruit = image.load_img('/content/fruits-360/fruits-360-original-size/fruits-360-original-size/Test/apple_red_2/r0_143.jpg', target_size = (100,100))\n",
        "test_fruit = image.img_to_array(test_fruit, dtype=np.uint8)\n",
        "test_fruit = np.array(test_fruit)/255.0\n",
        "prediction = model.predict(test_fruit[np.newaxis, ...])\n",
        "\n",
        "print(\"- Precisión: \",np.max(prediction[0], axis=-1))\n",
        "predicted_class = fruitlabel[np.argmax(prediction[0], axis=-1)]\n",
        "print(\"- Clase: \",predicted_class,'\\n')\n",
        "\n",
        "plt.axis('off')\n",
        "plt.imshow(test_fruit.squeeze());"
      ],
      "metadata": {
        "colab": {
          "base_uri": "https://localhost:8080/",
          "height": 300
        },
        "id": "hAgz0fLyORCV",
        "outputId": "63afe609-38b3-4711-da03-b8f6d7669c99"
      },
      "execution_count": 63,
      "outputs": [
        {
          "output_type": "stream",
          "name": "stdout",
          "text": [
            "- Precisión:  0.9758563\n",
            "- Clase:  apple_red_2 \n",
            "\n"
          ]
        },
        {
          "output_type": "display_data",
          "data": {
            "image/png": "[encoded data removed]",
            "text/plain": [
              "<Figure size 432x288 with 1 Axes>"
            ]
          },
          "metadata": {
            "needs_background": "light"
          }
        }
      ]
    },
    {
      "cell_type": "code",
      "source": [
        "fruitlabel = np.array(target_labels)\n",
        "test_fruit = image.load_img('/content/fruits-360/fruits-360-original-size/fruits-360-original-size/Test/eggplant_violet_1/r0_107.jpg', target_size = (100,100))\n",
        "test_fruit = image.img_to_array(test_fruit, dtype=np.uint8)\n",
        "test_fruit = np.array(test_fruit)/255.0\n",
        "prediction = model.predict(test_fruit[np.newaxis, ...])\n",
        "\n",
        "print(\"- Precisión: \",np.max(prediction[0], axis=-1))\n",
        "predicted_class = fruitlabel[np.argmax(prediction[0], axis=-1)]\n",
        "print(\"- Clase: \",predicted_class,'\\n')\n",
        "\n",
        "plt.axis('off')\n",
        "plt.imshow(test_fruit.squeeze());"
      ],
      "metadata": {
        "id": "kdQI4fCmM357",
        "colab": {
          "base_uri": "https://localhost:8080/",
          "height": 300
        },
        "outputId": "1a0ff498-9015-4879-b9ab-6498359548d1"
      },
      "execution_count": 64,
      "outputs": [
        {
          "output_type": "stream",
          "name": "stdout",
          "text": [
            "- Precisión:  1.0\n",
            "- Clase:  eggplant_violet_1 \n",
            "\n"
          ]
        },
        {
          "output_type": "display_data",
          "data": {
            "image/png": "[encoded data removed]",
            "text/plain": [
              "<Figure size 432x288 with 1 Axes>"
            ]
          },
          "metadata": {
            "needs_background": "light"
          }
        }
      ]
    },
    {
      "cell_type": "code",
      "source": [
        "model =  tf.keras.models.load_model('/content/fruits_cnn.h5')\n",
        "test_genertaor = tf.keras.preprocessing.image.ImageDataGenerator(rescale=1./225) #  reflejará el 100% del preprocesamiento que se usó durante el entrenamiento del modelo preentrenado.\n",
        "\n",
        "test_prec = test_genertaor.flow_from_directory(TEST_PATH,target_size=(100,100),shuffle = True)\n",
        "loss,acc = model.evaluate(test_prec,verbose=2)"
      ],
      "metadata": {
        "colab": {
          "base_uri": "https://localhost:8080/"
        },
        "id": "yQo9218IRWPT",
        "outputId": "ae89d641-9faa-4625-cda9-c8a5943d1383"
      },
      "execution_count": 60,
      "outputs": [
        {
          "output_type": "stream",
          "name": "stdout",
          "text": [
            "Found 3110 images belonging to 24 classes.\n",
            "98/98 - 26s - loss: 0.2948 - accuracy: 0.8961 - 26s/epoch - 269ms/step\n"
          ]
        }
      ]
    }
  ],
  "metadata": {
    "accelerator": "GPU",
    "colab": {
      "collapsed_sections": [],
      "name": "CNN_fruits-360.ipynb",
      "provenance": []
    },
    "kernelspec": {
      "display_name": "Python 3",
      "name": "python3"
    },
    "language_info": {
      "name": "python"
    }
  },
  "nbformat": 4,
  "nbformat_minor": 0
}